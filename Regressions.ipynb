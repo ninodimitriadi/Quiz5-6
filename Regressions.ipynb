{
 "cells": [
  {
   "cell_type": "markdown",
   "id": "66b5f894-fa27-4ab1-b05a-4029533a7d83",
   "metadata": {},
   "source": [
    "ერთ ცვლადიანი რეგრესია"
   ]
  },
  {
   "cell_type": "code",
   "execution_count": 70,
   "id": "c2fae664-c579-4760-ac1c-c3fc9f0089b1",
   "metadata": {},
   "outputs": [],
   "source": [
    "import numpy as np\n",
    "import matplotlib.pyplot as plt\n",
    "import pandas as pd\n",
    "import seaborn as sns\n",
    "%matplotlib inline"
   ]
  },
  {
   "cell_type": "code",
   "execution_count": 71,
   "id": "0ce489f0-eb44-417f-a15d-f7124da5c2c4",
   "metadata": {},
   "outputs": [
    {
     "data": {
      "text/html": [
       "<div>\n",
       "<style scoped>\n",
       "    .dataframe tbody tr th:only-of-type {\n",
       "        vertical-align: middle;\n",
       "    }\n",
       "\n",
       "    .dataframe tbody tr th {\n",
       "        vertical-align: top;\n",
       "    }\n",
       "\n",
       "    .dataframe thead th {\n",
       "        text-align: right;\n",
       "    }\n",
       "</style>\n",
       "<table border=\"1\" class=\"dataframe\">\n",
       "  <thead>\n",
       "    <tr style=\"text-align: right;\">\n",
       "      <th></th>\n",
       "      <th>YearsExperience</th>\n",
       "      <th>Salary</th>\n",
       "    </tr>\n",
       "  </thead>\n",
       "  <tbody>\n",
       "    <tr>\n",
       "      <th>0</th>\n",
       "      <td>1.1</td>\n",
       "      <td>39343.0</td>\n",
       "    </tr>\n",
       "    <tr>\n",
       "      <th>1</th>\n",
       "      <td>1.3</td>\n",
       "      <td>46205.0</td>\n",
       "    </tr>\n",
       "    <tr>\n",
       "      <th>2</th>\n",
       "      <td>1.5</td>\n",
       "      <td>37731.0</td>\n",
       "    </tr>\n",
       "    <tr>\n",
       "      <th>3</th>\n",
       "      <td>2.0</td>\n",
       "      <td>43525.0</td>\n",
       "    </tr>\n",
       "    <tr>\n",
       "      <th>4</th>\n",
       "      <td>2.2</td>\n",
       "      <td>39891.0</td>\n",
       "    </tr>\n",
       "  </tbody>\n",
       "</table>\n",
       "</div>"
      ],
      "text/plain": [
       "   YearsExperience   Salary\n",
       "0              1.1  39343.0\n",
       "1              1.3  46205.0\n",
       "2              1.5  37731.0\n",
       "3              2.0  43525.0\n",
       "4              2.2  39891.0"
      ]
     },
     "execution_count": 71,
     "metadata": {},
     "output_type": "execute_result"
    }
   ],
   "source": [
    "df = pd.read_csv(\"Salary_Data.csv\")\n",
    "df.head()"
   ]
  },
  {
   "cell_type": "code",
   "execution_count": 72,
   "id": "e04167e7-495d-43b8-951e-bded53052625",
   "metadata": {},
   "outputs": [],
   "source": [
    "X = df.iloc[:, :-1].values\n",
    "y = df.iloc[:, 1].values"
   ]
  },
  {
   "cell_type": "code",
   "execution_count": 90,
   "id": "90cbcaf8-8a20-468f-a8a9-a8b36b844cca",
   "metadata": {},
   "outputs": [
    {
     "data": {
      "text/plain": [
       "<Axes: >"
      ]
     },
     "execution_count": 90,
     "metadata": {},
     "output_type": "execute_result"
    },
    {
     "data": {
      "image/png": "[encoded data removed]",
      "text/plain": [
       "<Figure size 640x480 with 2 Axes>"
      ]
     },
     "metadata": {},
     "output_type": "display_data"
    }
   ],
   "source": [
    "sns.heatmap(df.corr())"
   ]
  },
  {
   "cell_type": "code",
   "execution_count": 73,
   "id": "a970667f-6b07-4656-beda-a12836681d09",
   "metadata": {},
   "outputs": [],
   "source": [
    "from sklearn.model_selection import train_test_split"
   ]
  },
  {
   "cell_type": "code",
   "execution_count": 74,
   "id": "7c133f2c-9ca6-4282-a214-34bfa9bca557",
   "metadata": {},
   "outputs": [],
   "source": [
    "from sklearn.model_selection import train_test_split\n",
    "X_train, X_test, y_train, y_test = train_test_split(X, y, test_size = 0.2, random_state = 0)"
   ]
  },
  {
   "cell_type": "code",
   "execution_count": 76,
   "id": "31fe10e6-4ea7-4fbf-8785-e633d37ae65f",
   "metadata": {},
   "outputs": [
    {
     "data": {
      "text/plain": [
       "array([112635.,  55794.,  83088., 101302.,  56642.,  66029.,  64445.,\n",
       "        61111., 113812.,  91738.,  46205., 121872.,  60150.,  39891.,\n",
       "        81363.,  93940.,  57189.,  54445., 105582.,  43525.,  39343.,\n",
       "        98273.,  67938.,  56957.])"
      ]
     },
     "execution_count": 76,
     "metadata": {},
     "output_type": "execute_result"
    }
   ],
   "source": [
    "y_train"
   ]
  },
  {
   "cell_type": "code",
   "execution_count": 77,
   "id": "e3c03733-c58b-4e93-b618-42d3ac91deeb",
   "metadata": {},
   "outputs": [
    {
     "data": {
      "text/html": [
       "<style>#sk-container-id-2 {color: black;}#sk-container-id-2 pre{padding: 0;}#sk-container-id-2 div.sk-toggleable {background-color: white;}#sk-container-id-2 label.sk-toggleable__label {cursor: pointer;display: block;width: 100%;margin-bottom: 0;padding: 0.3em;box-sizing: border-box;text-align: center;}#sk-container-id-2 label.sk-toggleable__label-arrow:before {content: \"▸\";float: left;margin-right: 0.25em;color: #696969;}#sk-container-id-2 label.sk-toggleable__label-arrow:hover:before {color: black;}#sk-container-id-2 div.sk-estimator:hover label.sk-toggleable__label-arrow:before {color: black;}#sk-container-id-2 div.sk-toggleable__content {max-height: 0;max-width: 0;overflow: hidden;text-align: left;background-color: #f0f8ff;}#sk-container-id-2 div.sk-toggleable__content pre {margin: 0.2em;color: black;border-radius: 0.25em;background-color: #f0f8ff;}#sk-container-id-2 input.sk-toggleable__control:checked~div.sk-toggleable__content {max-height: 200px;max-width: 100%;overflow: auto;}#sk-container-id-2 input.sk-toggleable__control:checked~label.sk-toggleable__label-arrow:before {content: \"▾\";}#sk-container-id-2 div.sk-estimator input.sk-toggleable__control:checked~label.sk-toggleable__label {background-color: #d4ebff;}#sk-container-id-2 div.sk-label input.sk-toggleable__control:checked~label.sk-toggleable__label {background-color: #d4ebff;}#sk-container-id-2 input.sk-hidden--visually {border: 0;clip: rect(1px 1px 1px 1px);clip: rect(1px, 1px, 1px, 1px);height: 1px;margin: -1px;overflow: hidden;padding: 0;position: absolute;width: 1px;}#sk-container-id-2 div.sk-estimator {font-family: monospace;background-color: #f0f8ff;border: 1px dotted black;border-radius: 0.25em;box-sizing: border-box;margin-bottom: 0.5em;}#sk-container-id-2 div.sk-estimator:hover {background-color: #d4ebff;}#sk-container-id-2 div.sk-parallel-item::after {content: \"\";width: 100%;border-bottom: 1px solid gray;flex-grow: 1;}#sk-container-id-2 div.sk-label:hover label.sk-toggleable__label {background-color: #d4ebff;}#sk-container-id-2 div.sk-serial::before {content: \"\";position: absolute;border-left: 1px solid gray;box-sizing: border-box;top: 0;bottom: 0;left: 50%;z-index: 0;}#sk-container-id-2 div.sk-serial {display: flex;flex-direction: column;align-items: center;background-color: white;padding-right: 0.2em;padding-left: 0.2em;position: relative;}#sk-container-id-2 div.sk-item {position: relative;z-index: 1;}#sk-container-id-2 div.sk-parallel {display: flex;align-items: stretch;justify-content: center;background-color: white;position: relative;}#sk-container-id-2 div.sk-item::before, #sk-container-id-2 div.sk-parallel-item::before {content: \"\";position: absolute;border-left: 1px solid gray;box-sizing: border-box;top: 0;bottom: 0;left: 50%;z-index: -1;}#sk-container-id-2 div.sk-parallel-item {display: flex;flex-direction: column;z-index: 1;position: relative;background-color: white;}#sk-container-id-2 div.sk-parallel-item:first-child::after {align-self: flex-end;width: 50%;}#sk-container-id-2 div.sk-parallel-item:last-child::after {align-self: flex-start;width: 50%;}#sk-container-id-2 div.sk-parallel-item:only-child::after {width: 0;}#sk-container-id-2 div.sk-dashed-wrapped {border: 1px dashed gray;margin: 0 0.4em 0.5em 0.4em;box-sizing: border-box;padding-bottom: 0.4em;background-color: white;}#sk-container-id-2 div.sk-label label {font-family: monospace;font-weight: bold;display: inline-block;line-height: 1.2em;}#sk-container-id-2 div.sk-label-container {text-align: center;}#sk-container-id-2 div.sk-container {/* jupyter's `normalize.less` sets `[hidden] { display: none; }` but bootstrap.min.css set `[hidden] { display: none !important; }` so we also need the `!important` here to be able to override the default hidden behavior on the sphinx rendered scikit-learn.org. See: https://github.com/scikit-learn/scikit-learn/issues/21755 */display: inline-block !important;position: relative;}#sk-container-id-2 div.sk-text-repr-fallback {display: none;}</style><div id=\"sk-container-id-2\" class=\"sk-top-container\"><div class=\"sk-text-repr-fallback\"><pre>LinearRegression()</pre><b>In a Jupyter environment, please rerun this cell to show the HTML representation or trust the notebook. <br />On GitHub, the HTML representation is unable to render, please try loading this page with nbviewer.org.</b></div><div class=\"sk-container\" hidden><div class=\"sk-item\"><div class=\"sk-estimator sk-toggleable\"><input class=\"sk-toggleable__control sk-hidden--visually\" id=\"sk-estimator-id-2\" type=\"checkbox\" checked><label for=\"sk-estimator-id-2\" class=\"sk-toggleable__label sk-toggleable__label-arrow\">LinearRegression</label><div class=\"sk-toggleable__content\"><pre>LinearRegression()</pre></div></div></div></div></div>"
      ],
      "text/plain": [
       "LinearRegression()"
      ]
     },
     "execution_count": 77,
     "metadata": {},
     "output_type": "execute_result"
    }
   ],
   "source": [
    "from sklearn.linear_model import LinearRegression\n",
    "regressor = LinearRegression()\n",
    "regressor.fit(X_train, y_train)"
   ]
  },
  {
   "cell_type": "code",
   "execution_count": 79,
   "id": "704fd7f0-5ae6-4175-8c7c-7851bbe28ecd",
   "metadata": {},
   "outputs": [
    {
     "name": "stdout",
     "output_type": "stream",
     "text": [
      "[9312.57512673]\n"
     ]
    },
    {
     "data": {
      "text/plain": [
       "9312.575126729189"
      ]
     },
     "execution_count": 79,
     "metadata": {},
     "output_type": "execute_result"
    }
   ],
   "source": [
    "print(regressor.coef_)\n",
    "m = regressor.coef_[0]\n",
    "m"
   ]
  },
  {
   "cell_type": "code",
   "execution_count": 80,
   "id": "e410a69e-8767-4b72-8294-342da8b63543",
   "metadata": {},
   "outputs": [
    {
     "name": "stdout",
     "output_type": "stream",
     "text": [
      "26780.09915062818\n"
     ]
    }
   ],
   "source": [
    "print(regressor.intercept_)\n",
    "c = regressor.intercept_\n"
   ]
  },
  {
   "cell_type": "code",
   "execution_count": 82,
   "id": "4a15b74a-4cd2-4d12-830f-dc7b00dd1b16",
   "metadata": {},
   "outputs": [
    {
     "data": {
      "text/plain": [
       "[<matplotlib.lines.Line2D at 0x2c00c122560>]"
      ]
     },
     "execution_count": 82,
     "metadata": {},
     "output_type": "execute_result"
    },
    {
     "data": {
      "image/png": "[encoded data removed]",
      "text/plain": [
       "<Figure size 640x480 with 1 Axes>"
      ]
     },
     "metadata": {},
     "output_type": "display_data"
    }
   ],
   "source": [
    "plt.scatter(X_train, y_train, color = 'black')\n",
    "plt.plot(X_train, regressor.predict(X_train), color = 'red')"
   ]
  },
  {
   "cell_type": "markdown",
   "id": "951fc79f-c0a2-456d-8f8a-296397e58ee0",
   "metadata": {},
   "source": [
    "მრავალდონიანი ცვლადის რეგრესია"
   ]
  },
  {
   "cell_type": "code",
   "execution_count": 83,
   "id": "5f8abca3-70dd-42b6-967f-f8e952da4001",
   "metadata": {},
   "outputs": [],
   "source": [
    "import numpy as np\n",
    "import matplotlib.pyplot as plt\n",
    "import pandas as pd\n",
    "import seaborn as sns\n",
    "%matplotlib inline"
   ]
  },
  {
   "cell_type": "code",
   "execution_count": 84,
   "id": "489c416e-7351-46e4-89f0-3b31a89b81c7",
   "metadata": {},
   "outputs": [
    {
     "data": {
      "text/html": [
       "<div>\n",
       "<style scoped>\n",
       "    .dataframe tbody tr th:only-of-type {\n",
       "        vertical-align: middle;\n",
       "    }\n",
       "\n",
       "    .dataframe tbody tr th {\n",
       "        vertical-align: top;\n",
       "    }\n",
       "\n",
       "    .dataframe thead th {\n",
       "        text-align: right;\n",
       "    }\n",
       "</style>\n",
       "<table border=\"1\" class=\"dataframe\">\n",
       "  <thead>\n",
       "    <tr style=\"text-align: right;\">\n",
       "      <th></th>\n",
       "      <th>work_year</th>\n",
       "      <th>job_title</th>\n",
       "      <th>job_category</th>\n",
       "      <th>salary_currency</th>\n",
       "      <th>salary</th>\n",
       "      <th>salary_in_usd</th>\n",
       "      <th>employee_residence</th>\n",
       "      <th>experience_level</th>\n",
       "      <th>employment_type</th>\n",
       "      <th>work_setting</th>\n",
       "      <th>company_location</th>\n",
       "      <th>company_size</th>\n",
       "    </tr>\n",
       "  </thead>\n",
       "  <tbody>\n",
       "    <tr>\n",
       "      <th>0</th>\n",
       "      <td>2023</td>\n",
       "      <td>Data DevOps Engineer</td>\n",
       "      <td>Data Engineering</td>\n",
       "      <td>EUR</td>\n",
       "      <td>88000</td>\n",
       "      <td>95012</td>\n",
       "      <td>Germany</td>\n",
       "      <td>Mid-level</td>\n",
       "      <td>Full-time</td>\n",
       "      <td>Hybrid</td>\n",
       "      <td>Germany</td>\n",
       "      <td>L</td>\n",
       "    </tr>\n",
       "    <tr>\n",
       "      <th>1</th>\n",
       "      <td>2023</td>\n",
       "      <td>Data Architect</td>\n",
       "      <td>Data Architecture and Modeling</td>\n",
       "      <td>USD</td>\n",
       "      <td>186000</td>\n",
       "      <td>186000</td>\n",
       "      <td>United States</td>\n",
       "      <td>Senior</td>\n",
       "      <td>Full-time</td>\n",
       "      <td>In-person</td>\n",
       "      <td>United States</td>\n",
       "      <td>M</td>\n",
       "    </tr>\n",
       "    <tr>\n",
       "      <th>2</th>\n",
       "      <td>2023</td>\n",
       "      <td>Data Architect</td>\n",
       "      <td>Data Architecture and Modeling</td>\n",
       "      <td>USD</td>\n",
       "      <td>81800</td>\n",
       "      <td>81800</td>\n",
       "      <td>United States</td>\n",
       "      <td>Senior</td>\n",
       "      <td>Full-time</td>\n",
       "      <td>In-person</td>\n",
       "      <td>United States</td>\n",
       "      <td>M</td>\n",
       "    </tr>\n",
       "    <tr>\n",
       "      <th>3</th>\n",
       "      <td>2023</td>\n",
       "      <td>Data Scientist</td>\n",
       "      <td>Data Science and Research</td>\n",
       "      <td>USD</td>\n",
       "      <td>212000</td>\n",
       "      <td>212000</td>\n",
       "      <td>United States</td>\n",
       "      <td>Senior</td>\n",
       "      <td>Full-time</td>\n",
       "      <td>In-person</td>\n",
       "      <td>United States</td>\n",
       "      <td>M</td>\n",
       "    </tr>\n",
       "    <tr>\n",
       "      <th>4</th>\n",
       "      <td>2023</td>\n",
       "      <td>Data Scientist</td>\n",
       "      <td>Data Science and Research</td>\n",
       "      <td>USD</td>\n",
       "      <td>93300</td>\n",
       "      <td>93300</td>\n",
       "      <td>United States</td>\n",
       "      <td>Senior</td>\n",
       "      <td>Full-time</td>\n",
       "      <td>In-person</td>\n",
       "      <td>United States</td>\n",
       "      <td>M</td>\n",
       "    </tr>\n",
       "    <tr>\n",
       "      <th>...</th>\n",
       "      <td>...</td>\n",
       "      <td>...</td>\n",
       "      <td>...</td>\n",
       "      <td>...</td>\n",
       "      <td>...</td>\n",
       "      <td>...</td>\n",
       "      <td>...</td>\n",
       "      <td>...</td>\n",
       "      <td>...</td>\n",
       "      <td>...</td>\n",
       "      <td>...</td>\n",
       "      <td>...</td>\n",
       "    </tr>\n",
       "    <tr>\n",
       "      <th>9350</th>\n",
       "      <td>2021</td>\n",
       "      <td>Data Specialist</td>\n",
       "      <td>Data Management and Strategy</td>\n",
       "      <td>USD</td>\n",
       "      <td>165000</td>\n",
       "      <td>165000</td>\n",
       "      <td>United States</td>\n",
       "      <td>Senior</td>\n",
       "      <td>Full-time</td>\n",
       "      <td>Remote</td>\n",
       "      <td>United States</td>\n",
       "      <td>L</td>\n",
       "    </tr>\n",
       "    <tr>\n",
       "      <th>9351</th>\n",
       "      <td>2020</td>\n",
       "      <td>Data Scientist</td>\n",
       "      <td>Data Science and Research</td>\n",
       "      <td>USD</td>\n",
       "      <td>412000</td>\n",
       "      <td>412000</td>\n",
       "      <td>United States</td>\n",
       "      <td>Senior</td>\n",
       "      <td>Full-time</td>\n",
       "      <td>Remote</td>\n",
       "      <td>United States</td>\n",
       "      <td>L</td>\n",
       "    </tr>\n",
       "    <tr>\n",
       "      <th>9352</th>\n",
       "      <td>2021</td>\n",
       "      <td>Principal Data Scientist</td>\n",
       "      <td>Data Science and Research</td>\n",
       "      <td>USD</td>\n",
       "      <td>151000</td>\n",
       "      <td>151000</td>\n",
       "      <td>United States</td>\n",
       "      <td>Mid-level</td>\n",
       "      <td>Full-time</td>\n",
       "      <td>Remote</td>\n",
       "      <td>United States</td>\n",
       "      <td>L</td>\n",
       "    </tr>\n",
       "    <tr>\n",
       "      <th>9353</th>\n",
       "      <td>2020</td>\n",
       "      <td>Data Scientist</td>\n",
       "      <td>Data Science and Research</td>\n",
       "      <td>USD</td>\n",
       "      <td>105000</td>\n",
       "      <td>105000</td>\n",
       "      <td>United States</td>\n",
       "      <td>Entry-level</td>\n",
       "      <td>Full-time</td>\n",
       "      <td>Remote</td>\n",
       "      <td>United States</td>\n",
       "      <td>S</td>\n",
       "    </tr>\n",
       "    <tr>\n",
       "      <th>9354</th>\n",
       "      <td>2020</td>\n",
       "      <td>Business Data Analyst</td>\n",
       "      <td>Data Analysis</td>\n",
       "      <td>USD</td>\n",
       "      <td>100000</td>\n",
       "      <td>100000</td>\n",
       "      <td>United States</td>\n",
       "      <td>Entry-level</td>\n",
       "      <td>Contract</td>\n",
       "      <td>Remote</td>\n",
       "      <td>United States</td>\n",
       "      <td>L</td>\n",
       "    </tr>\n",
       "  </tbody>\n",
       "</table>\n",
       "<p>9355 rows × 12 columns</p>\n",
       "</div>"
      ],
      "text/plain": [
       "      work_year                 job_title                    job_category  \\\n",
       "0          2023      Data DevOps Engineer                Data Engineering   \n",
       "1          2023            Data Architect  Data Architecture and Modeling   \n",
       "2          2023            Data Architect  Data Architecture and Modeling   \n",
       "3          2023            Data Scientist       Data Science and Research   \n",
       "4          2023            Data Scientist       Data Science and Research   \n",
       "...         ...                       ...                             ...   \n",
       "9350       2021           Data Specialist    Data Management and Strategy   \n",
       "9351       2020            Data Scientist       Data Science and Research   \n",
       "9352       2021  Principal Data Scientist       Data Science and Research   \n",
       "9353       2020            Data Scientist       Data Science and Research   \n",
       "9354       2020     Business Data Analyst                   Data Analysis   \n",
       "\n",
       "     salary_currency  salary  salary_in_usd employee_residence  \\\n",
       "0                EUR   88000          95012            Germany   \n",
       "1                USD  186000         186000      United States   \n",
       "2                USD   81800          81800      United States   \n",
       "3                USD  212000         212000      United States   \n",
       "4                USD   93300          93300      United States   \n",
       "...              ...     ...            ...                ...   \n",
       "9350             USD  165000         165000      United States   \n",
       "9351             USD  412000         412000      United States   \n",
       "9352             USD  151000         151000      United States   \n",
       "9353             USD  105000         105000      United States   \n",
       "9354             USD  100000         100000      United States   \n",
       "\n",
       "     experience_level employment_type work_setting company_location  \\\n",
       "0           Mid-level       Full-time       Hybrid          Germany   \n",
       "1              Senior       Full-time    In-person    United States   \n",
       "2              Senior       Full-time    In-person    United States   \n",
       "3              Senior       Full-time    In-person    United States   \n",
       "4              Senior       Full-time    In-person    United States   \n",
       "...               ...             ...          ...              ...   \n",
       "9350           Senior       Full-time       Remote    United States   \n",
       "9351           Senior       Full-time       Remote    United States   \n",
       "9352        Mid-level       Full-time       Remote    United States   \n",
       "9353      Entry-level       Full-time       Remote    United States   \n",
       "9354      Entry-level        Contract       Remote    United States   \n",
       "\n",
       "     company_size  \n",
       "0               L  \n",
       "1               M  \n",
       "2               M  \n",
       "3               M  \n",
       "4               M  \n",
       "...           ...  \n",
       "9350            L  \n",
       "9351            L  \n",
       "9352            L  \n",
       "9353            S  \n",
       "9354            L  \n",
       "\n",
       "[9355 rows x 12 columns]"
      ]
     },
     "execution_count": 84,
     "metadata": {},
     "output_type": "execute_result"
    }
   ],
   "source": [
    "jobs = pd.read_csv('jobs_in_data.csv')\n",
    "jobs"
   ]
  },
  {
   "cell_type": "code",
   "execution_count": 86,
   "id": "15727bb0-c57a-4483-a5cb-1d42ab89f97b",
   "metadata": {},
   "outputs": [
    {
     "data": {
      "text/plain": [
       "array([[2023, 'Data DevOps Engineer', 'Data Engineering', ...,\n",
       "        'Full-time', 'Hybrid', 'Germany'],\n",
       "       [2023, 'Data Architect', 'Data Architecture and Modeling', ...,\n",
       "        'Full-time', 'In-person', 'United States'],\n",
       "       [2023, 'Data Architect', 'Data Architecture and Modeling', ...,\n",
       "        'Full-time', 'In-person', 'United States'],\n",
       "       ...,\n",
       "       [2021, 'Principal Data Scientist', 'Data Science and Research',\n",
       "        ..., 'Full-time', 'Remote', 'United States'],\n",
       "       [2020, 'Data Scientist', 'Data Science and Research', ...,\n",
       "        'Full-time', 'Remote', 'United States'],\n",
       "       [2020, 'Business Data Analyst', 'Data Analysis', ..., 'Contract',\n",
       "        'Remote', 'United States']], dtype=object)"
      ]
     },
     "execution_count": 86,
     "metadata": {},
     "output_type": "execute_result"
    }
   ],
   "source": [
    "X = jobs.iloc[:, :-1].values\n",
    "y = jobs.iloc[:, 4].values\n",
    "X"
   ]
  },
  {
   "cell_type": "code",
   "execution_count": 88,
   "id": "42d0f3a0-bea9-4c6a-939a-ec2244420197",
   "metadata": {},
   "outputs": [
    {
     "name": "stderr",
     "output_type": "stream",
     "text": [
      "C:\\Users\\jibo\\AppData\\Local\\Temp\\ipykernel_3348\\3560082463.py:1: FutureWarning: The default value of numeric_only in DataFrame.corr is deprecated. In a future version, it will default to False. Select only valid columns or specify the value of numeric_only to silence this warning.\n",
      "  sns.heatmap(jobs.corr())\n"
     ]
    },
    {
     "data": {
      "text/plain": [
       "<Axes: >"
      ]
     },
     "execution_count": 88,
     "metadata": {},
     "output_type": "execute_result"
    },
    {
     "data": {
      "image/png": "[encoded data removed]",
      "text/plain": [
       "<Figure size 640x480 with 2 Axes>"
      ]
     },
     "metadata": {},
     "output_type": "display_data"
    }
   ],
   "source": [
    "sns.heatmap(jobs.corr())"
   ]
  },
  {
   "cell_type": "code",
   "execution_count": 91,
   "id": "e5c99821-29fb-46b7-a208-5ff7e85dced3",
   "metadata": {},
   "outputs": [
    {
     "data": {
      "text/plain": [
       "array([[2023, 'Data DevOps Engineer', 'Data Engineering', ...,\n",
       "        'Full-time', 'Hybrid', 'Germany'],\n",
       "       [2023, 'Data Architect', 'Data Architecture and Modeling', ...,\n",
       "        'Full-time', 'In-person', 'United States'],\n",
       "       [2023, 'Data Architect', 'Data Architecture and Modeling', ...,\n",
       "        'Full-time', 'In-person', 'United States'],\n",
       "       ...,\n",
       "       [2021, 'Principal Data Scientist', 'Data Science and Research',\n",
       "        ..., 'Full-time', 'Remote', 'United States'],\n",
       "       [2020, 'Data Scientist', 'Data Science and Research', ...,\n",
       "        'Full-time', 'Remote', 'United States'],\n",
       "       [2020, 'Business Data Analyst', 'Data Analysis', ..., 'Contract',\n",
       "        'Remote', 'United States']], dtype=object)"
      ]
     },
     "execution_count": 91,
     "metadata": {},
     "output_type": "execute_result"
    }
   ],
   "source": [
    "from sklearn.preprocessing import LabelEncoder, OneHotEncoder\n",
    "labelencoder = LabelEncoder()\n",
    "X[:, 3] = labelencoder.fit_transform(X[:, 3])\n",
    "X"
   ]
  },
  {
   "cell_type": "code",
   "execution_count": 92,
   "id": "5d3d7235-6495-4863-b9fa-966315a1c0aa",
   "metadata": {},
   "outputs": [
    {
     "data": {
      "text/plain": [
       "<matplotlib.collections.PathCollection at 0x2c00c2f99c0>"
      ]
     },
     "execution_count": 92,
     "metadata": {},
     "output_type": "execute_result"
    },
    {
     "data": {
      "image/png": "[encoded data removed]",
      "text/plain": [
       "<Figure size 640x480 with 1 Axes>"
      ]
     },
     "metadata": {},
     "output_type": "display_data"
    }
   ],
   "source": [
    "plt.scatter(X[:,0], y)"
   ]
  },
  {
   "cell_type": "code",
   "execution_count": 93,
   "id": "ac2bf575-b0d9-4aef-b454-308c3d7a4b44",
   "metadata": {},
   "outputs": [],
   "source": [
    "from sklearn.model_selection import train_test_split\n",
    "X_train, X_test, y_train, y_test = train_test_split(X, y, test_size = 0.2, random_state = 0)"
   ]
  },
  {
   "cell_type": "code",
   "execution_count": null,
   "id": "a380f980-3a69-4c07-b3be-614067a3e9ce",
   "metadata": {},
   "outputs": [],
   "source": [
    "from sklearn.linear_model import LinearRegression\n",
    "regressor = LinearRegression()\n",
    "regressor.fit(X_train, y_train)"
   ]
  },
  {
   "cell_type": "code",
   "execution_count": null,
   "id": "b9b30a6a-32bf-41a3-8e1e-0fc852143d4c",
   "metadata": {},
   "outputs": [],
   "source": [
    "regressor.coef_"
   ]
  },
  {
   "cell_type": "code",
   "execution_count": null,
   "id": "c111c0a0-3f90-459c-8706-4e3d11d61d7a",
   "metadata": {},
   "outputs": [],
   "source": [
    "regressor.intercept_"
   ]
  },
  {
   "cell_type": "code",
   "execution_count": null,
   "id": "3930e8d9-f236-47bd-95cd-5ab781a3b78b",
   "metadata": {},
   "outputs": [],
   "source": [
    "from sklearn.metrics import r2_score\n",
    "r2_score(y_test, y_pred)"
   ]
  }
 ],
 "metadata": {
  "kernelspec": {
   "display_name": "Python 3 (ipykernel)",
   "language": "python",
   "name": "python3"
  },
  "language_info": {
   "codemirror_mode": {
    "name": "ipython",
    "version": 3
   },
   "file_extension": ".py",
   "mimetype": "text/x-python",
   "name": "python",
   "nbconvert_exporter": "python",
   "pygments_lexer": "ipython3",
   "version": "3.10.4"
  }
 },
 "nbformat": 4,
 "nbformat_minor": 5
}
